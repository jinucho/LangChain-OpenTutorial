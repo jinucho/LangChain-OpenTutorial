{
 "cells": [
  {
   "cell_type": "markdown",
   "id": "25733da0",
   "metadata": {},
   "source": [
    "# Neo4j\n",
    "\n",
    "- Author: [Jongho Lee](https://github.com/XaviereKU)\n",
    "- Peer Review: [HyeonJong Moon](https://github.com/hj0302), [Haseom Shin](https://github.com/IHAGI-c), [Sohyeon Yim](https://github.com/sohyunwriter)\n",
    "- This is a part of [LangChain Open Tutorial](https://github.com/LangChain-OpenTutorial/LangChain-OpenTutorial)\n",
    "\n",
    "[![Open in Colab](https://colab.research.google.com/assets/colab-badge.svg)](https://colab.research.google.com/github/LangChain-OpenTutorial/LangChain-OpenTutorial/blob/main/99-TEMPLATE/00-BASE-TEMPLATE-EXAMPLE.ipynb) [![Open in GitHub](https://img.shields.io/badge/Open%20in%20GitHub-181717?style=flat-square&logo=github&logoColor=white)](https://github.com/LangChain-OpenTutorial/LangChain-OpenTutorial/blob/main/99-TEMPLATE/00-BASE-TEMPLATE-EXAMPLE.ipynb)\n",
    "\n",
    "## Overview\n",
    "\n",
    "This tutorial covers how to use ```Neo4j``` with **LangChain** .\n",
    "\n",
    "```Neo4j``` is a graph database backed by vector store and can be deployed locally or on cloud.\n",
    "\n",
    "To fully utilize ```Neo4j```, you need to learn about ```Cypher```, declarative query language.\n",
    "\n",
    "This tutorial walks you through using **CRUD** operations with the ```Neo4j``` **storing** , **updating** , **deleting** documents, and performing **similarity-based retrieval** .\n",
    "\n",
    "### Table of Contents\n",
    "\n",
    "- [Overview](#overview)\n",
    "- [Environment Setup](#environment-setup)\n",
    "- [What is Neo4j?](#what-is-neo4j?)\n",
    "- [Prepare Data](#prepare-data)\n",
    "- [Setting up Neo4j](#setting-up-neo4j)\n",
    "- [Document Manager](#document-manager)\n",
    "\n",
    "\n",
    "### References\n",
    "\n",
    "- [Cypher](https://neo4j.com/docs/cypher-manual/current/introduction/)\n",
    "- [Neo4j Docker Installation](https://hub.docker.com/_/neo4j)\n",
    "- [Neo4j Official Installation guide](https://neo4j.com/docs/operations-manual/current/installation/)\n",
    "- [Neo4j Python SDK document](https://neo4j.com/docs/api/python-driver/current/index.html)\n",
    "- [Neo4j document](https://neo4j.com/docs/)\n",
    "- [Langchain Neo4j document](https://python.langchain.com/docs/integrations/vectorstores/neo4jvector/)\n",
    "----"
   ]
  },
  {
   "cell_type": "markdown",
   "id": "c1fac085",
   "metadata": {},
   "source": [
    "## Environment Setup\n",
    "\n",
    "Set up the environment. You may refer to [Environment Setup](https://wikidocs.net/257836) for more details.\n",
    "\n",
    "**[Note]**\n",
    "- ```langchain-opentutorial``` is a package that provides a set of easy-to-use environment setup, useful functions and utilities for tutorials. \n",
    "- You can checkout the [```langchain-opentutorial```](https://github.com/LangChain-OpenTutorial/langchain-opentutorial-pypi) for more details."
   ]
  },
  {
   "cell_type": "code",
   "execution_count": 1,
   "id": "98da7994",
   "metadata": {},
   "outputs": [],
   "source": [
    "%%capture --no-stderr\n",
    "%pip install langchain-opentutorial"
   ]
  },
  {
   "cell_type": "code",
   "execution_count": 2,
   "id": "69133474",
   "metadata": {},
   "outputs": [
    {
     "name": "stdout",
     "output_type": "stream",
     "text": [
      "Note: you may need to restart the kernel to use updated packages.\n"
     ]
    }
   ],
   "source": [
    "# Install necessary package\n",
    "%pip install -qU neo4j"
   ]
  },
  {
   "cell_type": "code",
   "execution_count": 3,
   "id": "800c732b",
   "metadata": {},
   "outputs": [],
   "source": [
    "# Install required packages\n",
    "from langchain_opentutorial import package\n",
    "\n",
    "package.install(\n",
    "    [\n",
    "        \"langsmith\",\n",
    "        \"langchain\",\n",
    "        \"langchain_core\",\n",
    "        \"langchain_community\",\n",
    "        \"langchain_openai\",\n",
    "        \"neo4j\",\n",
    "        \"nltk\",\n",
    "    ],\n",
    "    verbose=False,\n",
    "    upgrade=False,\n",
    ")"
   ]
  },
  {
   "cell_type": "code",
   "execution_count": 4,
   "id": "5b36bafa",
   "metadata": {},
   "outputs": [
    {
     "name": "stdout",
     "output_type": "stream",
     "text": [
      "Environment variables have been set successfully.\n"
     ]
    }
   ],
   "source": [
    "# Set environment variables\n",
    "from langchain_opentutorial import set_env\n",
    "\n",
    "set_env(\n",
    "    {\n",
    "        \"OPENAI_API_KEY\": \"Your OPENAI API KEY\",\n",
    "        \"LANGCHAIN_API_KEY\": \"Your LangChain API KEY\",\n",
    "        \"LANGCHAIN_TRACING_V2\": \"true\",\n",
    "        \"LANGCHAIN_ENDPOINT\": \"https://api.smith.langchain.com\",\n",
    "        \"LANGCHAIN_PROJECT\": \"Neo4j\",\n",
    "        \"NEO4J_URI\": \"Your Neo4j Aura URI\",\n",
    "        \"NEO4J_USERNAME\": \"Your Neo4j Aura Username\",\n",
    "        \"NEO4J_PASSWORD\": \"Your Neo4j Aura Password\",\n",
    "    }\n",
    ")"
   ]
  },
  {
   "cell_type": "markdown",
   "id": "8011a0c7",
   "metadata": {},
   "source": [
    "You can alternatively set API keys such as ```OPENAI_API_KEY``` in a ```.env``` file and load them.\n",
    "\n",
    "[Note] This is not necessary if you've already set the required API keys in previous steps."
   ]
  },
  {
   "cell_type": "code",
   "execution_count": 5,
   "id": "70d7e764",
   "metadata": {},
   "outputs": [
    {
     "data": {
      "text/plain": [
       "True"
      ]
     },
     "execution_count": 5,
     "metadata": {},
     "output_type": "execute_result"
    }
   ],
   "source": [
    "from dotenv import load_dotenv\n",
    "\n",
    "load_dotenv(override=True)"
   ]
  },
  {
   "cell_type": "markdown",
   "id": "6890920d",
   "metadata": {},
   "source": [
    "### Setup Neo4j\n",
    "We have two options to start with: cloud or local deployment.\n",
    "\n",
    "In this tutorial, we will use the cloud service called ```Aura```, provided by ```Neo4j```.\n",
    "\n",
    "We will also describe how to deploy ```Neo4j``` using ```Docker```.\n",
    "\n",
    "* **Getting started with Aura**\n",
    "  \n",
    "  You can create a new **Neo4j Aura** account on the [Neo4j](https://neo4j.com/) official website.\n",
    "\n",
    "  Visit the website and click \"Get Started\" Free at the top right.\n",
    "\n",
    "  Once you have signed in, you will see a button, **Create instance**, and after that, you will see your username and password.\n",
    "\n",
    "  To get your API key, click **Download and continue** to download a .txt file that contains the API key to connect your **NEO4j Aura** .\n",
    "\n",
    "* **Getting started with Docker**\n",
    "\n",
    "  Here is the description for how to run ```Neo4j``` using ```Docker```.\n",
    "\n",
    "  To run **Neo4j container** , use the following command.\n",
    "  ```\n",
    "  docker run \\\n",
    "      -itd \\\n",
    "      --publish=7474:7474 --publish=7687:7687 \\\n",
    "      --volume=$HOME/neo4j/data:/data \\\n",
    "      --env=NEO4J_AUTH=none \\\n",
    "      --name neo4j \\\n",
    "      neo4j\n",
    "  ```\n",
    "\n",
    "  You can visit **Neo4j Docker installation** reference to check more detailed information.\n",
    "\n",
    "**[NOTE]**\n",
    "* ```Neo4j``` also supports native deployment on macOS, Windows and Linux. Visit the **Neo4j Official Installation guide** reference for more details.\n",
    "* The ```Neo4j community edition``` only supports one database."
   ]
  },
  {
   "cell_type": "markdown",
   "id": "0f0346ee",
   "metadata": {},
   "source": [
    "## What is Neo4j?\n",
    "\n",
    "```Neo4j``` is a native graph database, which means it represents data as nodes and edges.\n",
    "\n",
    "* Nodes\n",
    "  * ```label```: tag to represent node role in a domain.\n",
    "  * ```property```: key-value pairs, e.g. name-John.\n",
    "\n",
    "* Edges\n",
    "  * Represents relationship between two nodes.\n",
    "  * Directional, which means it has start and end node.\n",
    "  * ```property```: like nodes, edge can have properties.\n",
    "\n",
    "* NoSQL\n",
    "  * Neo4j does not require predefined schema allowing flexible data modeling.\n",
    "  \n",
    "* ```Cypher```\n",
    "  * ```Neo4j``` uses ```Cypher```, a declarative query language, to interact with the database.\n",
    "  * ```Cypher``` expression resembles how humans think about relationships."
   ]
  },
  {
   "cell_type": "markdown",
   "id": "6f3b5bd2",
   "metadata": {},
   "source": [
    "## Prepare Data\n",
    "\n",
    "This section guides you through the **data preparation process** .\n",
    "\n",
    "This section includes the following components:\n",
    "\n",
    "- Data Introduction\n",
    "\n",
    "- Preprocess Data\n"
   ]
  },
  {
   "cell_type": "markdown",
   "id": "508ae7f7",
   "metadata": {},
   "source": [
    "### Introduce Data\n",
    "\n",
    "In this tutorial, we will use the fairy tale **📗 The Little Prince** in PDF format as our data.\n",
    "\n",
    "This material complies with the **Apache 2.0 license** .\n",
    "\n",
    "The data is used in a text (.txt) format converted from the original PDF.\n",
    "\n",
    "You can view the data at the link below.\n",
    "- [Data Link](https://huggingface.co/datasets/sohyunwriter/the_little_prince)"
   ]
  },
  {
   "cell_type": "markdown",
   "id": "004ea4f4",
   "metadata": {},
   "source": [
    "### Preprocessing Data\n",
    "\n",
    "In this tutorial section, we will preprocess the text data from The Little Prince and convert it into a list of ```LangChain Document``` objects with metadata. \n",
    "\n",
    "Each document chunk will include a ```title``` field in the metadata, extracted from the first line of each section."
   ]
  },
  {
   "cell_type": "code",
   "execution_count": 6,
   "id": "8e4cac64",
   "metadata": {},
   "outputs": [],
   "source": [
    "from langchain.schema import Document\n",
    "from langchain.text_splitter import RecursiveCharacterTextSplitter\n",
    "import re\n",
    "from typing import List\n",
    "\n",
    "\n",
    "def preprocessing_data(content: str) -> List[Document]:\n",
    "    # 1. Split the text by double newlines to separate sections\n",
    "    blocks = content.split(\"\\n\\n\")\n",
    "\n",
    "    # 2. Initialize the text splitter\n",
    "    text_splitter = RecursiveCharacterTextSplitter(\n",
    "        chunk_size=500,  # Maximum number of characters per chunk\n",
    "        chunk_overlap=50,  # Overlap between chunks to preserve context\n",
    "        separators=[\"\\n\\n\", \"\\n\", \" \"],  # Order of priority for splitting\n",
    "    )\n",
    "\n",
    "    documents = []\n",
    "\n",
    "    # 3. Loop through each section\n",
    "    for block in blocks:\n",
    "        lines = block.strip().splitlines()\n",
    "        if not lines:\n",
    "            continue\n",
    "\n",
    "        # Extract title from the first line using square brackets [ ]\n",
    "        first_line = lines[0]\n",
    "        title_match = re.search(r\"\\[(.*?)\\]\", first_line)\n",
    "        title = title_match.group(1).strip() if title_match else None\n",
    "\n",
    "        # Remove the title line from content\n",
    "        body = \"\\n\".join(lines[1:]).strip()\n",
    "        if not body:\n",
    "            continue\n",
    "\n",
    "        # 4. Chunk the section using the text splitter\n",
    "        chunks = text_splitter.split_text(body)\n",
    "\n",
    "        # 5. Create a LangChain Document for each chunk with the same title metadata\n",
    "        for chunk in chunks:\n",
    "            documents.append(Document(page_content=chunk, metadata={\"title\": title}))\n",
    "\n",
    "    print(f\"Generated {len(documents)} chunked documents.\")\n",
    "\n",
    "    return documents"
   ]
  },
  {
   "cell_type": "code",
   "execution_count": 7,
   "id": "1d091a51",
   "metadata": {},
   "outputs": [
    {
     "name": "stdout",
     "output_type": "stream",
     "text": [
      "Generated 262 chunked documents.\n"
     ]
    }
   ],
   "source": [
    "# Load the entire text file\n",
    "with open(\"./data/the_little_prince.txt\", \"r\", encoding=\"utf-8\") as f:\n",
    "    content = f.read()\n",
    "\n",
    "# Preprocessing Data\n",
    "\n",
    "docs = preprocessing_data(content=content)"
   ]
  },
  {
   "cell_type": "markdown",
   "id": "1977d4ff",
   "metadata": {},
   "source": [
    "## Setting up Neo4j\n",
    "\n",
    "This part walks you through the initial setup of ```Neo4j``` .\n",
    "\n",
    "This section includes the following components:\n",
    "\n",
    "- Load Embedding Model\n",
    "\n",
    "- Load ```Neo4j``` Client\n",
    "\n",
    "- Create Index"
   ]
  },
  {
   "cell_type": "markdown",
   "id": "7eee56b2",
   "metadata": {},
   "source": [
    "### Load Embedding Model\n",
    "\n",
    "In the **Load Embedding Model** section, you'll learn how to load an embedding model.\n",
    "\n",
    "This tutorial uses **OpenAI's** **API-Key** for loading the model.\n",
    "\n",
    "*💡 If you prefer to use another embedding model, see the instructions below.*\n",
    "- [Embedding Models](https://python.langchain.com/docs/integrations/text_embedding/)"
   ]
  },
  {
   "cell_type": "code",
   "execution_count": 8,
   "id": "5bd5c3c9",
   "metadata": {},
   "outputs": [],
   "source": [
    "import os\n",
    "from langchain_openai import OpenAIEmbeddings\n",
    "\n",
    "embedding = OpenAIEmbeddings(model=\"text-embedding-3-large\")"
   ]
  },
  {
   "cell_type": "markdown",
   "id": "40f65795",
   "metadata": {},
   "source": [
    "### Load Neo4j Client\n",
    "\n",
    "In the **Load ```Neo4j``` Client** section, we cover how to load the **database client object** using the **Python SDK** for ```Neo4j``` .\n",
    "- [Neo4j Python SDK Docs](https://neo4j.com/docs/api/python-driver/current/index.html)"
   ]
  },
  {
   "cell_type": "code",
   "execution_count": 9,
   "id": "eed0ebad",
   "metadata": {},
   "outputs": [],
   "source": [
    "import time\n",
    "import neo4j\n",
    "\n",
    "\n",
    "# Create Database Client Object Function\n",
    "\n",
    "\n",
    "def get_db_client(uri, username, password):\n",
    "    \"\"\"\n",
    "\n",
    "    Initializes and returns a VectorStore client instance.\n",
    "\n",
    "\n",
    "    This function loads configuration (e.g., API key, host) from environment\n",
    "\n",
    "    variables or default values and creates a client object to interact\n",
    "\n",
    "    with the Neo4j Python SDK.\n",
    "\n",
    "\n",
    "    Returns:\n",
    "\n",
    "        client:ClientType - An instance of the Neo4j client.\n",
    "\n",
    "\n",
    "    Raises:\n",
    "\n",
    "        ValueError: If required configuration is missing.\n",
    "\n",
    "    \"\"\"\n",
    "\n",
    "    client = neo4j.GraphDatabase.driver(uri=uri, auth=(username, password))\n",
    "\n",
    "    return client"
   ]
  },
  {
   "cell_type": "code",
   "execution_count": 10,
   "id": "2b5f4116",
   "metadata": {},
   "outputs": [],
   "source": [
    "# Get DB Client Object\n",
    "uri = os.getenv(\"NEO4J_URI\")\n",
    "username = os.getenv(\"NEO4J_USERNAME\")\n",
    "password = os.getenv(\"NEO4J_PASSWORD\")\n",
    "\n",
    "client = get_db_client(uri, username, password)"
   ]
  },
  {
   "cell_type": "markdown",
   "id": "7dba7e46",
   "metadata": {},
   "source": [
    "### Create Index\n",
    "If you are successfully connected to **Neo4j Aura**, some basic indexes are already created.\n",
    "\n",
    "But, in this tutorial we will create a new index with ```Neo4jIndexManager``` class."
   ]
  },
  {
   "cell_type": "code",
   "execution_count": 11,
   "id": "054e6d30",
   "metadata": {},
   "outputs": [
    {
     "name": "stdout",
     "output_type": "stream",
     "text": [
      "Index with name tutorial_index already exists.\n",
      "Returning Neo4jDBManager object.\n",
      "Created index information\n",
      "('Index name: tutorial_index', 'Node label: tutorial_node', 'Similarity metric: COSINE', 'Embedding dimension: 3072', 'Embedding node property: embedding', 'Text node property: text')\n",
      "Index creation successful. Return Neo4jDBManager object.\n",
      "Index creation failed due to\n",
      "<class 'NameError'>\n",
      "name 'Neo4jCRUDManager' is not defined\n"
     ]
    }
   ],
   "source": [
    "from utils.neo4j import Neo4jIndexManager\n",
    "\n",
    "#  Create IndexManager Object\n",
    "indexManger = Neo4jIndexManager(client)\n",
    "\n",
    "# Create A New Index\n",
    "index_name = \"tutorial_index\"\n",
    "node_label = \"tutorial_node\"\n",
    "\n",
    "# create a new index\n",
    "try:\n",
    "    tutorial_index = indexManger.create_index(\n",
    "        embedding, index_name=index_name, metric=\"cosine\", node_label=node_label\n",
    "    )\n",
    "except Exception as e:\n",
    "    print(\"Index creation failed due to\")\n",
    "    print(type(e))\n",
    "    print(str(e))"
   ]
  },
  {
   "cell_type": "markdown",
   "id": "3a5a97a0",
   "metadata": {},
   "source": [
    "## Document Manager\n",
    "\n",
    "To support the **Langchain-Opentutorial** , we implemented a custom set of **CRUD** functionalities for VectorDBs. \n",
    "\n",
    "The following operations are included:\n",
    "\n",
    "- ```upsert``` : Update existing documents or insert if they don’t exist\n",
    "\n",
    "- ```upsert_parallel``` : Perform upserts in parallel for large-scale data\n",
    "\n",
    "- ```similarity_search``` : Search for similar documents based on embeddings\n",
    "\n",
    "- ```delete``` : Remove documents based on filter conditions\n",
    "\n",
    "Each of these features is implemented as class methods specific to each VectorDB.\n",
    "\n",
    "In this tutorial, you can easily utilize these methods to interact with your VectorDB.\n",
    "\n",
    "*We plan to continuously expand the functionality by adding more common operations in the future.*"
   ]
  },
  {
   "cell_type": "markdown",
   "id": "65a40601",
   "metadata": {},
   "source": [
    "### Create Instance\n",
    "\n",
    "First, we create an instance of the ```Neo4j``` helper class to use its CRUD functionalities.\n",
    "\n",
    "This class is initialized with the **```Neo4j``` Python SDK client instance**, **index name** and the **embedding model instance** , both of which were defined in the previous section."
   ]
  },
  {
   "cell_type": "code",
   "execution_count": 12,
   "id": "dccab807",
   "metadata": {},
   "outputs": [],
   "source": [
    "from utils.neo4j import Neo4jDocumentManager\n",
    "\n",
    "crud_manager = Neo4jDocumentManager(\n",
    "    client=client, index_name=\"tutorial_index\", embedding=embedding\n",
    ")"
   ]
  },
  {
   "cell_type": "markdown",
   "id": "c1c0c67f",
   "metadata": {},
   "source": [
    "Now you can use the following **CRUD** operations with the ```crud_manager``` instance.\n",
    "\n",
    "These instance allow you to easily manage documents in your ```Neo4j``` ."
   ]
  },
  {
   "cell_type": "markdown",
   "id": "7c6c53c5",
   "metadata": {},
   "source": [
    "### Upsert Document\n",
    "\n",
    "**Update** existing documents or **insert** if they don’t exist\n",
    "\n",
    "**✅ Args**\n",
    "\n",
    "- ```texts``` : Iterable[str] – List of text contents to be inserted/updated.\n",
    "\n",
    "- ```metadatas``` : Optional[List[Dict]] – List of metadata dictionaries for each text (optional).\n",
    "\n",
    "- ```ids``` : Optional[List[str]] – Custom IDs for the documents. If not provided, IDs will be auto-generated.\n",
    "\n",
    "- ```**kwargs``` : Extra arguments for the underlying vector store.\n",
    "\n",
    "**🔄 Return**\n",
    "\n",
    "- None"
   ]
  },
  {
   "cell_type": "code",
   "execution_count": 13,
   "id": "f3a6c32b",
   "metadata": {},
   "outputs": [],
   "source": [
    "from uuid import uuid4\n",
    "\n",
    "# Create ID for each document\n",
    "ids = [str(uuid4()) for _ in docs]\n",
    "\n",
    "args = {\n",
    "    \"texts\": [doc.page_content for doc in docs[:2]],\n",
    "    \"metadatas\": [doc.metadata for doc in docs[:2]],\n",
    "    \"ids\": ids[:2],\n",
    "    # Add additional parameters if you need\n",
    "}\n",
    "\n",
    "crud_manager.upsert(**args)"
   ]
  },
  {
   "cell_type": "markdown",
   "id": "278fe1ed",
   "metadata": {},
   "source": [
    "### Upsert Parallel Document\n",
    "\n",
    "Perform **upserts** in **parallel** for large-scale data\n",
    "\n",
    "**✅ Args**\n",
    "\n",
    "- ```texts``` : Iterable[str] – List of text contents to be inserted/updated.\n",
    "\n",
    "- ```metadatas``` : Optional[List[Dict]] – List of metadata dictionaries for each text (optional).\n",
    "\n",
    "- ```ids``` : Optional[List[str]] – Custom IDs for the documents. If not provided, IDs will be auto-generated.\n",
    "\n",
    "- ```batch_size``` : int – Number of documents per batch (default: 32).\n",
    "\n",
    "- ```workers``` : int – Number of parallel workers (default: 10).\n",
    "\n",
    "- ```**kwargs``` : Extra arguments for the underlying vector store.\n",
    "\n",
    "**🔄 Return**\n",
    "\n",
    "- None"
   ]
  },
  {
   "cell_type": "code",
   "execution_count": 14,
   "id": "a89dd8e0",
   "metadata": {},
   "outputs": [],
   "source": [
    "from uuid import uuid4\n",
    "\n",
    "args = {\n",
    "    \"texts\": [doc.page_content for doc in docs],\n",
    "    \"metadatas\": [doc.metadata for doc in docs],\n",
    "    \"ids\": ids,\n",
    "    # Add additional parameters if you need\n",
    "}\n",
    "\n",
    "crud_manager.upsert_parallel(**args)"
   ]
  },
  {
   "cell_type": "markdown",
   "id": "6beea197",
   "metadata": {},
   "source": [
    "### Similarity Search\n",
    "\n",
    "Search for **similar documents** based on **embeddings** .\n",
    "\n",
    "This method uses **\"cosine similarity\"** .\n",
    "\n",
    "\n",
    "**✅ Args**\n",
    "\n",
    "- ```query``` : str – The text query for similarity search.\n",
    "\n",
    "- ```k``` : int – Number of top results to return (default: 10).\n",
    "\n",
    "```**kwargs``` : Additional search options (e.g., filters).\n",
    "\n",
    "**🔄 Return**\n",
    "\n",
    "- ```results``` : List[Document] – A list of LangChain Document objects ranked by similarity."
   ]
  },
  {
   "cell_type": "code",
   "execution_count": 15,
   "id": "5859782b",
   "metadata": {},
   "outputs": [
    {
     "name": "stdout",
     "output_type": "stream",
     "text": [
      "Rank 1\n",
      "Contents : And he went back to meet the fox. \n",
      "\"Goodbye,\" he said. \n",
      "\"Goodbye,\" said the fox. \"And now here is my secret, a very simple secret: It is only with the heart that one can see rightly; what is essential is invisible to the eye.\" \n",
      "\"What is essential is invisible to the eye,\" the little prince repeated, so that he would be sure to remember.\n",
      "\"It is the time you have wasted for your rose that makes your rose so important.\"\n",
      "Metadata: {'id': '148b9b3f-2231-4ebd-86d8-6aa841c4ac1b', 'title': 'Chapter 21', 'embedding': None}\n",
      "Similarity Score: 0.755\n",
      "\n",
      "Rank 2\n",
      "Contents : \"Yes,\" I said to the little prince. \"The house, the stars, the desert-- what gives them their beauty is something that is invisible!\" \n",
      "\"I am glad,\" he said, \"that you agree with my fox.\"\n",
      "Metadata: {'id': '62df5e3c-2668-4f5c-96ea-23c5b7a38351', 'title': 'Chapter 24', 'embedding': None}\n",
      "Similarity Score: 0.748\n",
      "\n",
      "Rank 3\n",
      "Contents : \"The men where you live,\" said the little prince, \"raise five thousand roses in the same garden-- and they do not find in it what they are looking for.\" \n",
      "\"They do not find it,\" I replied. \n",
      "\"And yet what they are looking for could be found in one single rose, or in a little water.\" \n",
      "\"Yes, that is true,\" I said. \n",
      "And the little prince added: \n",
      "\"But the eyes are blind. One must look with the heart...\"\n",
      "Metadata: {'id': 'ff93762d-6bde-44f4-b3d2-c6dc466b46a8', 'title': 'Chapter 25', 'embedding': None}\n",
      "Similarity Score: 0.711\n",
      "\n"
     ]
    }
   ],
   "source": [
    "# Search by query\n",
    "results = crud_manager.search(query=\"What is essential is invisible to the eye.\", k=3)\n",
    "for idx, result in enumerate(results):\n",
    "    print(f\"Rank {idx+1}\")\n",
    "    print(f\"Contents : {result['text']}\")\n",
    "    print(f\"Metadata: {result['metadata']}\")\n",
    "    print(f\"Similarity Score: {result['score']}\")\n",
    "    print()"
   ]
  },
  {
   "cell_type": "markdown",
   "id": "9ad0ed0c",
   "metadata": {},
   "source": [
    "### Delete Document\n",
    "\n",
    "Remove documents based on filter conditions\n",
    "\n",
    "**✅ Args**\n",
    "\n",
    "- ```ids``` : Optional[List[str]] – List of document IDs to delete. If None, deletion is based on filter.\n",
    "\n",
    "- ```filters``` : Optional[Dict] – Dictionary specifying filter conditions (e.g., metadata match).\n",
    "\n",
    "- ```**kwargs``` : Any additional parameters.\n",
    "\n",
    "**🔄 Return**\n",
    "\n",
    "- Boolean"
   ]
  },
  {
   "cell_type": "code",
   "execution_count": 16,
   "id": "0e3a2c33",
   "metadata": {},
   "outputs": [
    {
     "data": {
      "text/plain": [
       "True"
      ]
     },
     "execution_count": 16,
     "metadata": {},
     "output_type": "execute_result"
    }
   ],
   "source": [
    "# Delete by ids\n",
    "ids = ids[:5]  # The 'ids' value you want to delete\n",
    "crud_manager.delete(ids=ids)"
   ]
  },
  {
   "cell_type": "code",
   "execution_count": 17,
   "id": "60bcb4cf",
   "metadata": {},
   "outputs": [
    {
     "data": {
      "text/plain": [
       "True"
      ]
     },
     "execution_count": 17,
     "metadata": {},
     "output_type": "execute_result"
    }
   ],
   "source": [
    "# Delete by ids with filters\n",
    "filters = {\"page\": 6}\n",
    "crud_manager.delete(filters={\"title\": \"chapter 6\"})"
   ]
  },
  {
   "cell_type": "code",
   "execution_count": 18,
   "id": "30d42d2e",
   "metadata": {},
   "outputs": [
    {
     "data": {
      "text/plain": [
       "True"
      ]
     },
     "execution_count": 18,
     "metadata": {},
     "output_type": "execute_result"
    }
   ],
   "source": [
    "# Delete All\n",
    "crud_manager.delete()"
   ]
  }
 ],
 "metadata": {
  "kernelspec": {
   "display_name": "langchain-opentutorial-FtaFqYLT-py3.11",
   "language": "python",
   "name": "python3"
  },
  "language_info": {
   "codemirror_mode": {
    "name": "ipython",
    "version": 3
   },
   "file_extension": ".py",
   "mimetype": "text/x-python",
   "name": "python",
   "nbconvert_exporter": "python",
   "pygments_lexer": "ipython3",
   "version": "3.11.9"
  }
 },
 "nbformat": 4,
 "nbformat_minor": 5
}
